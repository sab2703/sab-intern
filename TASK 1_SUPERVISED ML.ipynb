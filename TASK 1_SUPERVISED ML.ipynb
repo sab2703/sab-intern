{
 "cells": [
  {
   "cell_type": "markdown",
   "metadata": {},
   "source": [
    "# THE SPARKS FOUNDATION"
   ]
  },
  {
   "cell_type": "markdown",
   "metadata": {},
   "source": [
    "**INTERN DOMAIN:** \n",
    "Data Science and Business Analytics\n"
   ]
  },
  {
   "cell_type": "markdown",
   "metadata": {},
   "source": [
    "# BY SABESH CHARAN S"
   ]
  },
  {
   "cell_type": "markdown",
   "metadata": {},
   "source": [
    "**PROBLEM STATEMENT:** To predict score if a student studies for 9.25 hrs/ day"
   ]
  },
  {
   "cell_type": "markdown",
   "metadata": {},
   "source": [
    "**Steps involved:**"
   ]
  },
  {
   "cell_type": "markdown",
   "metadata": {},
   "source": [
    "1. importing libraries and data retrieval from url\n",
    "2. plotting data \n",
    "3. test, train split and inclusion of Regression model\n",
    "4. determining the predicted value\n",
    "5. examples using the model\n",
    "6. model evaluation using absolute mean."
   ]
  },
  {
   "cell_type": "markdown",
   "metadata": {},
   "source": [
    "**LIBRARIES USED**:\n"
   ]
  },
  {
   "cell_type": "markdown",
   "metadata": {},
   "source": [
    "1) Pandas\n",
    "2) Numpy\n",
    "3) Matplot library\n",
    "\n",
    "\n"
   ]
  },
  {
   "cell_type": "markdown",
   "metadata": {},
   "source": [
    "**ALGORITHM TYPE:** Simple Linear Regression "
   ]
  },
  {
   "cell_type": "code",
   "execution_count": 32,
   "metadata": {},
   "outputs": [
    {
     "name": "stdout",
     "output_type": "stream",
     "text": [
      "   Hours  Scores\n",
      "0    2.5      21\n",
      "1    5.1      47\n",
      "2    3.2      27\n",
      "3    8.5      75\n",
      "4    3.5      30\n"
     ]
    }
   ],
   "source": [
    "#importing libraries\n",
    "\n",
    "import pandas as pd\n",
    "import numpy as np\n",
    "import matplotlib.pyplot as plt\n",
    "\n",
    "\n",
    "#dataset retrieval frpm url\n",
    "pi=\"https://bit.ly/w-data\"\n",
    "data=pd.read_csv(pi)\n",
    "print(data.head())\n",
    "\n"
   ]
  },
  {
   "cell_type": "code",
   "execution_count": 33,
   "metadata": {},
   "outputs": [
    {
     "data": {
      "image/png": "[encoded data removed]",
      "text/plain": [
       "<Figure size 432x288 with 1 Axes>"
      ]
     },
     "metadata": {
      "needs_background": "light"
     },
     "output_type": "display_data"
    }
   ],
   "source": [
    "#plotting the data distribution\n",
    "\n",
    "data.plot(x='Hours',y='Scores',style='o')\n",
    "plt.title('HOURS VS %')\n",
    "plt.xlabel('Hours')\n",
    "plt.ylabel('score %')\n",
    "plt.show()"
   ]
  },
  {
   "cell_type": "code",
   "execution_count": 34,
   "metadata": {},
   "outputs": [
    {
     "data": {
      "image/png": "[encoded data removed]",
      "text/plain": [
       "<Figure size 432x288 with 1 Axes>"
      ]
     },
     "metadata": {
      "needs_background": "light"
     },
     "output_type": "display_data"
    }
   ],
   "source": [
    "#data seperated as inputs and outputs\n",
    "\n",
    "x=data.iloc[:, :-1].values\n",
    "y=data.iloc[:, 1].values\n",
    "\n",
    "#data split into train and test sets\n",
    "from sklearn.model_selection import train_test_split\n",
    "x_train,x_test,y_train,y_test=train_test_split(x,y,test_size=0.2,random_state=0)\n",
    "\n",
    "#algorithm importing\n",
    "\n",
    "from sklearn.linear_model import LinearRegression\n",
    "r=LinearRegression()\n",
    "r.fit(x_train,y_train)\n",
    "\n",
    "#Regression plotting\n",
    "\n",
    "line=r.coef_*x+r.intercept_\n",
    "plt.scatter(x,y)\n",
    "plt.plot(x,line)\n",
    "plt.show()"
   ]
  },
  {
   "cell_type": "code",
   "execution_count": 36,
   "metadata": {},
   "outputs": [
    {
     "name": "stdout",
     "output_type": "stream",
     "text": [
      "[20 27 69 30 62]\n"
     ]
    }
   ],
   "source": [
    "#data testing in score\n",
    "print(y_test)"
   ]
  },
  {
   "cell_type": "code",
   "execution_count": 38,
   "metadata": {},
   "outputs": [
    {
     "name": "stdout",
     "output_type": "stream",
     "text": [
      "[[1.5]\n",
      " [3.2]\n",
      " [7.4]\n",
      " [2.5]\n",
      " [5.9]]\n"
     ]
    }
   ],
   "source": [
    "#data testing in hours\n",
    "\n",
    "print(x_test)"
   ]
  },
  {
   "cell_type": "code",
   "execution_count": 37,
   "metadata": {},
   "outputs": [
    {
     "name": "stdout",
     "output_type": "stream",
     "text": [
      "   Actual score  predicted score\n",
      "0            20        16.884145\n",
      "1            27        33.732261\n",
      "2            69        75.357018\n",
      "3            30        26.794801\n",
      "4            62        60.491033\n"
     ]
    }
   ],
   "source": [
    "#comparing actual value and predicted value\n",
    "\n",
    "#predicted value is the x_test value with regression value\n",
    "y_predicted=r.predict(x_test)\n",
    "df=pd.DataFrame({'Actual score':y_test,'predicted score':y_predicted})\n",
    "print(df)"
   ]
  },
  {
   "cell_type": "code",
   "execution_count": 25,
   "metadata": {},
   "outputs": [
    {
     "name": "stdout",
     "output_type": "stream",
     "text": [
      "hours studied= {} [[9.25]]\n",
      "predicted score ={} 93.69173248737538\n"
     ]
    }
   ],
   "source": [
    "#testing our code as per our problem statement\n",
    "\n",
    "hours=[[9.25]]\n",
    "own_prediction=r.predict(hours)\n",
    "print(\"hours studied= {}\",format(hours))\n",
    "print(\"predicted score ={}\",format(own_prediction[0]))"
   ]
  },
  {
   "cell_type": "code",
   "execution_count": 28,
   "metadata": {},
   "outputs": [
    {
     "name": "stdout",
     "output_type": "stream",
     "text": [
      "hours studied= {} [[7.4]]\n",
      "predicted score = {} [75.357018]\n"
     ]
    }
   ],
   "source": [
    "#testing using different data\n",
    "\n",
    "hours=[[7.40]]\n",
    "own_predicted_1=r.predict(hours)\n",
    "print(\"hours studied= {}\",format(hours))\n",
    "print(\"predicted score = {}\", format(own_predicted_1))"
   ]
  },
  {
   "cell_type": "code",
   "execution_count": 30,
   "metadata": {},
   "outputs": [
    {
     "name": "stdout",
     "output_type": "stream",
     "text": [
      " absolute mean error : 4.183859899002975\n"
     ]
    }
   ],
   "source": [
    "#model evaluation\n",
    "from sklearn import metrics\n",
    "print(\" absolute mean error :\",metrics.mean_absolute_error(y_test,y_predicted))"
   ]
  },
  {
   "cell_type": "markdown",
   "metadata": {},
   "source": [
    "**Thus the score is predicted if a student studies for 9.25hrs/day**"
   ]
  },
  {
   "cell_type": "markdown",
   "metadata": {},
   "source": [
    "**THANK YOU!!...**"
   ]
  }
 ],
 "metadata": {
  "kernelspec": {
   "display_name": "Python 3",
   "language": "python",
   "name": "python3"
  },
  "language_info": {
   "codemirror_mode": {
    "name": "ipython",
    "version": 3
   },
   "file_extension": ".py",
   "mimetype": "text/x-python",
   "name": "python",
   "nbconvert_exporter": "python",
   "pygments_lexer": "ipython3",
   "version": "3.8.5"
  }
 },
 "nbformat": 4,
 "nbformat_minor": 4
}
